{
 "cells": [
  {
   "cell_type": "markdown",
   "metadata": {},
   "source": [
    "### Problem Formulation"
   ]
  },
  {
   "cell_type": "markdown",
   "metadata": {},
   "source": [
    "If we have 2 sets of data x_i and y_i which x_i is the number of hours student study for the exam and y_i with 1 and 0 only presents the exam result (pass or fail)."
   ]
  },
  {
   "cell_type": "markdown",
   "metadata": {},
   "source": [
    "### Sigmoid Function Derivative\n",
    "$f(x) = \\sigma(x - a)$ where $f(x) \\in [0, 1]$ is the probability of a student passing the exam if he/she studied for x hours.\n",
    "\n",
    "$\\sigma(x)$ is the sigmoid activation function where $\\sigma(x) = \\frac{1}{1 + e ^ {-x}}$\n",
    "\n",
    "We need to prove $$\\frac{d\\sigma(x)}{dx} = \\sigma(x)(1 - \\sigma(x))$$\n",
    "\n",
    "$$\n",
    "\\frac{d\\sigma(x)}{dx} = \\frac{d\\frac{1}{1 + e ^ {-x}}}{dx} = \\frac{d\\frac{1}{1 + e ^ {-x}}}{d(e ^ {-x})} \\frac{d(e ^{-x})}{dx} = \\frac{-1}{(1 + e ^{-x}) ^ 2} (-e ^ {-x}) = \\sigma(x) \\frac{e ^ {-x}}{1 + e ^{-x}} = \\sigma(x)(1 - \\sigma(x))\n",
    "$$"
   ]
  },
  {
   "cell_type": "markdown",
   "metadata": {},
   "source": [
    "### Why need improvement?\n",
    "- If we change the unit of time from hours to minutes, problem appear.\n",
    "- Clearly, (tới đây hết biết viết tiếng Anh sao rồi :<) đồ thị cần được giãn ra bởi nếu x có đơn vị là phút (48 phút), a có đơn vị là giờ (1 giờ chẳng hạn) thì một người học 48 phút sẽ chắc ăn đậu trong khi cần học 1 giờ để có xác suất đậu là 50%.\n",
    "- Then, we need a variable (called m) to solve this issue.\n",
    "- So we have the loss function as following:\n",
    "$$ L = \\sum_{i = 1} ^ n (y_i - \\sigma(mx_i - a)) ^ 2 $$"
   ]
  },
  {
   "cell_type": "markdown",
   "metadata": {},
   "source": [
    "### Problems to solve"
   ]
  },
  {
   "cell_type": "code",
   "execution_count": null,
   "metadata": {},
   "outputs": [],
   "source": [
    "    threshold = np.linspace(1, 7, 100)\n",
    "    additional_variable = np.linspace(0, 4, 100)"
   ]
  },
  {
   "cell_type": "markdown",
   "metadata": {},
   "source": [
    "With different starting points, learning rates, gradient descent easily does not converge. Why???"
   ]
  },
  {
   "cell_type": "markdown",
   "metadata": {},
   "source": [
    "With different arrays, animation got errors. Why???"
   ]
  }
 ],
 "metadata": {
  "language_info": {
   "name": "python"
  },
  "orig_nbformat": 4
 },
 "nbformat": 4,
 "nbformat_minor": 2
}
