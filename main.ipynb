{
 "cells": [
  {
   "cell_type": "markdown",
   "metadata": {},
   "source": [
    "## Logisticc Regression with multiple factors"
   ]
  },
  {
   "cell_type": "markdown",
   "metadata": {},
   "source": [
    "### Raise up problem\n"
   ]
  },
  {
   "cell_type": "markdown",
   "metadata": {},
   "source": [
    "We could not ensure someone pass or fail an exam just through their study time. If we have 1 more factor: concentration ability (unit: hours/day). How could we evaluate the probability of passing or failing an exam?"
   ]
  },
  {
   "cell_type": "markdown",
   "metadata": {},
   "source": [
    "### Two ways to go\n"
   ]
  },
  {
   "cell_type": "markdown",
   "metadata": {},
   "source": [
    "#### A natural way of thinking\n",
    "\n",
    "If we call the probability of passing the exam just basing on study time only is $prob_1$ and basing on concentration ability is $prob_2$. Then we have the probability for passing the exam basing on both factors is:\n",
    "\n",
    "$prob = prob_1 * prob_2$\n",
    "\n",
    "This call Bayesion model, mostly use probability."
   ]
  },
  {
   "cell_type": "markdown",
   "metadata": {},
   "source": [
    "#### The second way - Machine Learning\n",
    "\n",
    "Now thinking similarity to what we have done with 1 factor, we will have a solution for 2 factors."
   ]
  },
  {
   "cell_type": "code",
   "execution_count": 24,
   "metadata": {},
   "outputs": [
    {
     "data": {
      "image/png": "[encoded data removed]",
      "text/plain": [
       "<Figure size 640x480 with 1 Axes>"
      ]
     },
     "metadata": {},
     "output_type": "display_data"
    }
   ],
   "source": [
    "import matplotlib.pyplot as plt\n",
    "import numpy as np\n",
    "\n",
    "# Draw a graph with multiple dots red and green\n",
    "def draw_points(x1, x2, x1_label, x2_label, title, color):\n",
    "    plt.plot(x1, x2, 'o', color=color)\n",
    "    plt.xlabel(x1_label)\n",
    "    plt.ylabel(x2_label)\n",
    "    plt.title(title)\n",
    "\n",
    "def draw_line(a, b):\n",
    "    x = np.linspace(0, 7, 100)\n",
    "    y = a * x + b\n",
    "    plt.plot(x, y, label='y={a}x+{b}'.format(a=a, b=b))\n",
    "\n",
    "draw_points([0, 1, 2, 3, 4, 5, 6, 7], [14, 8, 12, 22, 16, 20, 10, 18], 'X1', 'X2', 'Data points', \"red\")\n",
    "draw_points([0, 1, 2, 3, 4, 5, 6, 7],[-3, 1, 0, -5, -4, -2, -6, -1],\"X1\", \"X2\", \"Data points\", \"green\")\n",
    "draw_line(1, 3)\n",
    "plt.show()"
   ]
  },
  {
   "cell_type": "markdown",
   "metadata": {},
   "source": [
    "### Problem Formulation"
   ]
  },
  {
   "cell_type": "markdown",
   "metadata": {},
   "source": [
    "If we are given data $(x_i, y_i, z_i)$ which:\n",
    "- $x_i$ is the hours of studying for the exam.\n",
    "- $y_i$ is the hours of concentration per day (represent the concentration ability).\n",
    "- $z_i$ including value 0 and 1 only that 0 is fail and 1 is pass."
   ]
  },
  {
   "cell_type": "markdown",
   "metadata": {},
   "source": [
    "#### Solving the data\n",
    "Look at the graph below, clearly we could draw a line to clasify 2 groups of data (pass or fail). \n",
    "If the line is $y = ax + b$, we can come up with some ideas:\n",
    "- For data points $(x_i, y_i)$ that $y_i - ax_i - b > 0$, $z_i = 1$ and vice versa (ngược lại).\n",
    "- The further the data point from the line is, the more likely that student can pass/fail the exam."
   ]
  },
  {
   "cell_type": "markdown",
   "metadata": {},
   "source": [
    "#### Notice\n",
    "But what is the exact distance between data point and line?\n",
    "- Đoạn thẳng kẻ từ điểm dữ liệu vuông góc xuống đường thẳng $y = ax + b$ OR\n",
    "- Đoạn thẳng kẻ từ điểm dữ liệu, vuông gốc trục Ox đến đường thẳng $y = ax + b$\n",
    "\n",
    "The answer is, we could use BOTH according to the ratio. But for easier calculation, we should choose the latter."
   ]
  },
  {
   "cell_type": "markdown",
   "metadata": {},
   "source": [
    "### Loss Function and Derivatives"
   ]
  },
  {
   "cell_type": "markdown",
   "metadata": {},
   "source": [
    "#### Loss Function\n",
    "$L(a,b,c) = \\sum_{i = 1}^n (-z_i.ln(\\sigma(ax_i + by_i + c)) - (1 - z_i).ln(1 - \\sigma(ax_i + by_i +c)))$"
   ]
  },
  {
   "cell_type": "markdown",
   "metadata": {},
   "source": [
    "#### Derivatives\n",
    "$\\frac{\\partial L}{\\partial a} = \\sum_{i = 1}^n (-z_i\\frac{d\\sigma(ax_i + by_i + c)}{d(ax_i + by_i +c)}\\frac{d(ax_i + by_i +c)}{da} - (1 - z_i)\\frac{d(1-\\sigma(ax_i + by_i + c))}{d(ax_i + by_i +c)}\\frac{d(ax_i + by_i +c)}{da})$\n",
    "\n",
    "$ = \\sum_{i = 1}^n (-z_i\\frac{\\sigma(ax_i + by_i + c)(1-\\sigma(ax_i + by_i + c))}{\\sigma(ax_i + by_i + c)}\\frac{d(ax_i + by_i +c)}{da} $\n",
    "\n",
    "$ - (1 - z_i)\\frac{-\\sigma(ax_i + by_i + c)(1-\\sigma(ax_i + by_i + c))}{1-\\sigma(ax_i + by_i + c)}\\frac{d(ax_i + by_i +c)}{da})$\n",
    "\n",
    "$ = \\sum_{i = 1}^n (-z_ix_i(1- \\sigma(ax_i + by_i + c)) - (1 - z_i)x_i(-\\sigma(ax_i + by_i + c)))$\n",
    "\n",
    "$ = \\sum_{i = 1}^n -x_i(z_i - z_i\\sigma(ax_i + by_i + c) -  \\sigma(ax_i + by_i + c) + z_i\\sigma(ax_i + by_i + c))$\n",
    "\n",
    "$ = \\sum_{i = 1}^n -x_i(z_i - \\sigma(ax_i + by_i + c))$"
   ]
  },
  {
   "cell_type": "markdown",
   "metadata": {},
   "source": [
    "Similarly, we have derivatives for b and c as following:\n",
    "\n",
    "$\\frac{\\partial L}{\\partial b} = \\sum_{i = 1}^n -y_i(z_i - \\sigma(ax_i + by_i + c))$\n",
    "\n",
    "$\\frac{\\partial L}{\\partial c} = \\sum_{i = 1}^n -(z_i - \\sigma(ax_i + by_i + c))$"
   ]
  }
 ],
 "metadata": {
  "kernelspec": {
   "display_name": "Python 3",
   "language": "python",
   "name": "python3"
  },
  "language_info": {
   "codemirror_mode": {
    "name": "ipython",
    "version": 3
   },
   "file_extension": ".py",
   "mimetype": "text/x-python",
   "name": "python",
   "nbconvert_exporter": "python",
   "pygments_lexer": "ipython3",
   "version": "3.11.4"
  },
  "orig_nbformat": 4
 },
 "nbformat": 4,
 "nbformat_minor": 2
}
