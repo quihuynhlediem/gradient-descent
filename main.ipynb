{
 "cells": [
  {
   "cell_type": "code",
   "execution_count": null,
   "metadata": {},
   "outputs": [],
   "source": [
    "    threshold = np.linspace(1, 7, 100)\n",
    "    additional_variable = np.linspace(0, 4, 100)"
   ]
  },
  {
   "cell_type": "markdown",
   "metadata": {},
   "source": [
    "With different starting points, learning rates, gradient descent easily does not converge. Why???"
   ]
  },
  {
   "cell_type": "markdown",
   "metadata": {},
   "source": [
    "With different arrays, animation got errors. Why???"
   ]
  }
 ],
 "metadata": {
  "language_info": {
   "name": "python"
  },
  "orig_nbformat": 4
 },
 "nbformat": 4,
 "nbformat_minor": 2
}
